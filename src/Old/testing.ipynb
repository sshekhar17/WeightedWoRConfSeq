{
 "cells": [
  {
   "cell_type": "code",
   "execution_count": 62,
   "metadata": {},
   "outputs": [],
   "source": [
    "import numpy as np \n",
    "import matplotlib.pyplot as plt \n",
    "from weightedCSsequential import * "
   ]
  },
  {
   "cell_type": "code",
   "execution_count": 63,
   "metadata": {},
   "outputs": [],
   "source": [
    "A = 0.01\n",
    "N = 200\n",
    "N1 = 100\n",
    "inv_prop = False\n",
    "N2 = N-N1\n",
    "f_over_S_range = [1-A, 1+A]\n",
    "\n",
    "if inv_prop:\n",
    "    title = f'{N1/N:.0%} large ' +r'$\\pi$ values,    $f \\propto 1/\\pi$'\n",
    "    figname = f'../data/NoSideInfoCSf_inv_propto_M_large_{N1}.png'\n",
    "    f_ranges = [[1e-3, 2*1e-3], [0.4, 0.5]]\n",
    "else:\n",
    "    title = f'{N1/N:.0%} large ' +r'$\\pi$ values,    $f \\propto \\pi$'\n",
    "    figname = f'../data/NoSideInfoCSf_propto_M_large_{N1}.png'\n",
    "    f_ranges = [[0.4, 0.5], [1e-3, 2*1e-3]]\n",
    "\n",
    "\n",
    "\n",
    "M, f, S =  generate_MFS(N_vals=(N1, N2), \n",
    "            N=N, # total number of transactions = sum(N_vals)\n",
    "            M_ranges = [ [1e5, 1e6], [1e2, 1*1e3]],  \n",
    "            f_ranges = f_ranges, \n",
    "            a = A)\n",
    "\n",
    "m_star = np.sum(M*f)/ np.sum(M)"
   ]
  },
  {
   "cell_type": "code",
   "execution_count": 64,
   "metadata": {},
   "outputs": [],
   "source": [
    "nG = 20\n",
    "grid = np.linspace(0, 1, nG) \n",
    "grid = np.append(grid, [m_star])\n",
    "nG += 1\n",
    "wealth = np.ones((nG,))\n",
    "Wealth = np.ones((nG,1))\n",
    "Payoff_vals = np.zeros((nG,1))\n",
    "seen = None # indicies queried so far \n",
    "unseen = np.arange(N) # indicies not queried so far \n",
    "Transaction_Indices = np.zeros((N,))\n",
    "cv_vals=None\n",
    "beta_vals = None\n",
    "use_CV = False \n",
    "method_name = 'propMS'\n",
    "beta_max = 0.5\n",
    "lambda_max = 4\n",
    "alpha=0.05\n",
    "Lambda_Vals = np.zeros((nG, N))\n",
    "\n",
    "\n",
    "result = run_one_expt(M, f,  S, method_name='propMS', lambda_max=lambda_max,\n",
    "                    beta_max=0.5, nG=nG, use_CV=False, \n",
    "                    f_over_S_range=None, alpha=0.05, logical_CS=False, \n",
    "                    intersect=False, return_payoff=True)"
   ]
  },
  {
   "cell_type": "code",
   "execution_count": 65,
   "metadata": {},
   "outputs": [],
   "source": [
    "grid, Wealth, LowerCS, UpperCS, Transaction_Indices, Error_flag, Payoff_vals = result\n"
   ]
  },
  {
   "cell_type": "code",
   "execution_count": 66,
   "metadata": {},
   "outputs": [],
   "source": [
    "def manual_payoffs(m, M, f, S, Idx, f_over_S,  method='propMS'):\n",
    "    Idx = Idx.astype(int)\n",
    "    M_, f_, S_ = M[Idx], f[Idx], S[Idx]\n",
    "    MS_U = np.flip(np.cumsum(np.flip(M_*S_)))\n",
    "    M_sum = np.sum(M_)\n",
    "    temp = MS_U / M_sum \n",
    "    Mu0 = np.zeros((len(M),))\n",
    "    Mu0[1:] = np.cumsum(M_[:-1]*f_[:-1])/ M_sum\n",
    "    if method=='propMS':\n",
    "        payoff = temp*f_/S_ - m + Mu0\n",
    "\n",
    "    L, U = np.zeros((N,)), np.zeros((N,))\n",
    "    for t in range(N):\n",
    "        unseen = Idx[t:]\n",
    "        mu_0 = Mu0[t]\n",
    "        q_t = get_sampling_distribution2(unseen, M, f, S, method)\n",
    "        L[t], U[t] = get_range_of_next_payoff(m, unseen, q_t, mu_0, M, S, method_name=method, \n",
    "                                f_over_S_range=None, use_CV=False, beta=0.5)\n",
    "    \n",
    "    return payoff, L, U\n",
    "        "
   ]
  },
  {
   "cell_type": "code",
   "execution_count": 67,
   "metadata": {},
   "outputs": [],
   "source": [
    "for i, _ in enumerate(grid):\n",
    "    m = grid[i]\n",
    "    P, L, U = manual_payoffs(m, M, f, S, Transaction_Indices, f_over_S_range)\n",
    "\n",
    "    a = P[P>U]\n",
    "    b = P[P<L]\n",
    "    if len(a) or len(b):\n",
    "        print(f'{i}: \\t {len(a)}, {len(b)}')\n"
   ]
  }
 ],
 "metadata": {
  "kernelspec": {
   "display_name": "Python 3.6.9 ('MLvenv')",
   "language": "python",
   "name": "python3"
  },
  "language_info": {
   "codemirror_mode": {
    "name": "ipython",
    "version": 3
   },
   "file_extension": ".py",
   "mimetype": "text/x-python",
   "name": "python",
   "nbconvert_exporter": "python",
   "pygments_lexer": "ipython3",
   "version": "3.10.4"
  },
  "orig_nbformat": 4,
  "vscode": {
   "interpreter": {
    "hash": "db517d108f74152b11af59b3276e3cab532c07c8e3716ba74f3f067fa160f00e"
   }
  }
 },
 "nbformat": 4,
 "nbformat_minor": 2
}
