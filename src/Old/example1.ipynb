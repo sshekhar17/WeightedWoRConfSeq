{
 "cells": [
  {
   "cell_type": "markdown",
   "metadata": {},
   "source": [
    "## Load Data"
   ]
  },
  {
   "cell_type": "code",
   "execution_count": 1,
   "metadata": {},
   "outputs": [],
   "source": [
    "import numpy as np\n",
    "import pandas as pd\n",
    "from sklearn.preprocessing import StandardScaler\n",
    "from sklearn.linear_model import LogisticRegression\n",
    "import matplotlib.pyplot as plt "
   ]
  },
  {
   "cell_type": "code",
   "execution_count": 2,
   "metadata": {},
   "outputs": [],
   "source": [
    "'''\n",
    "Likelihood of default dataset: https://www.kaggle.com/datasets/uciml/default-of-credit-card-clients-dataset\n",
    "'''\n",
    "def load_credit(path=\"taiwan_credit.csv\", standardize=True):\n",
    "    credit = pd.read_csv(path)\n",
    "    \n",
    "    mutable_feats = ['EducationLevel', 'MaxBillAmountOverLast6Months', 'MaxPaymentAmountOverLast6Months',\n",
    "       'MonthsWithZeroBalanceOverLast6Months',\n",
    "       'MonthsWithLowSpendingOverLast6Months',\n",
    "       'MonthsWithHighSpendingOverLast6Months', 'MostRecentBillAmount',\n",
    "       'MostRecentPaymentAmount', 'TotalOverdueCounts', 'TotalMonthsOverdue',\n",
    "       'HistoryOfOverduePayments']\n",
    "    \n",
    "    X = credit[mutable_feats].to_numpy()\n",
    "    X_std = X\n",
    "    if standardize:\n",
    "        scaler = StandardScaler()\n",
    "        X_std = scaler.fit_transform(X)\n",
    "    \n",
    "    y = credit[\"NoDefaultNextMonth\"].to_numpy().astype(\"int\")\n",
    "    return X_std, y"
   ]
  },
  {
   "cell_type": "code",
   "execution_count": 3,
   "metadata": {},
   "outputs": [],
   "source": [
    "X_full, y_full = load_credit()"
   ]
  },
  {
   "cell_type": "code",
   "execution_count": 4,
   "metadata": {},
   "outputs": [],
   "source": [
    "'''\n",
    "Train model that generates f\n",
    "'''\n",
    "clf_gold = LogisticRegression(penalty='l2', max_iter=3000, \n",
    "                              solver=\"saga\").fit(X_full, y_full)"
   ]
  },
  {
   "cell_type": "markdown",
   "metadata": {},
   "source": [
    "## Split Data"
   ]
  },
  {
   "cell_type": "code",
   "execution_count": 5,
   "metadata": {},
   "outputs": [],
   "source": [
    "'''\n",
    "Number of transactions will be DATA_SIZE\n",
    "Rest will be held out data for training the model that predicts S\n",
    "'''\n",
    "DATA_SIZE = 1000\n",
    "random_idxs = np.random.permutation(range(len(X_full)))\n",
    "train_idx = random_idxs[DATA_SIZE:]\n",
    "test_idx = random_idxs[:DATA_SIZE]"
   ]
  },
  {
   "cell_type": "code",
   "execution_count": 6,
   "metadata": {},
   "outputs": [],
   "source": [
    "X_tr = X_full[train_idx]\n",
    "y_tr = y_full[train_idx]\n",
    "X = X_full[test_idx]\n",
    "y = y_full[test_idx]"
   ]
  },
  {
   "cell_type": "markdown",
   "metadata": {},
   "source": [
    "## Training Model"
   ]
  },
  {
   "cell_type": "code",
   "execution_count": 7,
   "metadata": {},
   "outputs": [
    {
     "data": {
      "text/plain": [
       "1450"
      ]
     },
     "execution_count": 7,
     "metadata": {},
     "output_type": "execute_result"
    }
   ],
   "source": [
    "'''\n",
    "Fraction of held out data used to train model that outputs S\n",
    "'''\n",
    "TRAIN_FRAC = 0.05\n",
    "TRAIN_SIZE = int(TRAIN_FRAC * len(X_tr))\n",
    "TRAIN_SIZE"
   ]
  },
  {
   "cell_type": "code",
   "execution_count": 8,
   "metadata": {},
   "outputs": [],
   "source": [
    "from sklearn.linear_model import LogisticRegression\n",
    "clf = LogisticRegression(penalty='l2', max_iter=3000).fit(X_tr[:TRAIN_SIZE], y_tr[:TRAIN_SIZE])"
   ]
  },
  {
   "cell_type": "markdown",
   "metadata": {},
   "source": [
    "## Compute S, f, M"
   ]
  },
  {
   "cell_type": "code",
   "execution_count": 9,
   "metadata": {
    "scrolled": true
   },
   "outputs": [],
   "source": [
    "S = clf.predict_proba(X)[:,1]\n",
    "f = clf_gold.predict_proba(X)[:,1]"
   ]
  },
  {
   "cell_type": "code",
   "execution_count": 10,
   "metadata": {},
   "outputs": [
    {
     "data": {
      "image/png": "[encoded data removed]",
      "text/plain": [
       "<Figure size 432x288 with 1 Axes>"
      ]
     },
     "metadata": {
      "needs_background": "light"
     },
     "output_type": "display_data"
    }
   ],
   "source": [
    "'''\n",
    "On average how far is S from f\n",
    "'''\n",
    "np.average(np.abs(S - f))\n",
    "import matplotlib.pyplot as plt \n",
    "plt.bar(x=np.arange(len(S)), height=S, label='S')\n",
    "plt.bar(x=np.arange(len(f)), height=f, label='f')\n",
    "plt.legend()\n",
    "plt.show()"
   ]
  },
  {
   "cell_type": "code",
   "execution_count": 11,
   "metadata": {},
   "outputs": [],
   "source": [
    "'''\n",
    "Randomly generate M \\in [100, 1000]\n",
    "'''\n",
    "M = np.random.random(DATA_SIZE) * (1000 - 100) + 100"
   ]
  },
  {
   "cell_type": "code",
   "execution_count": 12,
   "metadata": {},
   "outputs": [],
   "source": [
    "N = DATA_SIZE"
   ]
  },
  {
   "cell_type": "code",
   "execution_count": 13,
   "metadata": {},
   "outputs": [
    {
     "data": {
      "text/plain": [
       "0.021161517515034388"
      ]
     },
     "execution_count": 13,
     "metadata": {},
     "output_type": "execute_result"
    }
   ],
   "source": [
    "Pi = M/M.sum() \n",
    "m_star = np.sum(Pi*f) \n",
    "a = min(S)\n",
    "a"
   ]
  },
  {
   "cell_type": "code",
   "execution_count": 14,
   "metadata": {},
   "outputs": [],
   "source": [
    "max_f_S_ratio = 1/a # the extreme case when f=1 and S=a"
   ]
  },
  {
   "cell_type": "markdown",
   "metadata": {},
   "source": [
    "### Generate the data \n",
    "\n",
    "We generate a total of $N=N_1+N_2$ transactions from a bimodal distribution. In particular, we have     \n",
    "* $N_1$ transactions with $M$-values in the range $[100, 1000]$  and $f$-values in the range $[0.4, 0.5]$ \n",
    "* $N_2$ transactions with $M$-values in the range $[10^5, 2\\times 10^5]$ and $f$-values in the range $[10^{-1}, 2\\times 10^{-1}]$. \n",
    "\n",
    "Finally, we generate $S$ values (that is $[0,1]$ valued prediction from Neptune scores) randomly satisfying \n",
    "$$\n",
    "a \\leq \\frac{S}{f} \\leq 2-a, \n",
    "$$\n",
    "with $a=0.1$."
   ]
  },
  {
   "cell_type": "markdown",
   "metadata": {},
   "source": [
    "### Construct the CS \n",
    "To construct the CS (in the batch setting), we only need to specify the sampling methods. Any sampling method must take in as inputs two arrays: `M` and `S`, and return one array `SW` of the same size. Examples: \n",
    "* `propM(M, S) = M`\n",
    "* `propMS(M, S) = M*S`\n",
    "* `propMinv(M, S)= 1/M` \n",
    "\n",
    "The confidence sequence (CS) for each method is constructed by calling the `get_conf_seq` function."
   ]
  },
  {
   "cell_type": "code",
   "execution_count": 15,
   "metadata": {},
   "outputs": [],
   "source": [
    "from weightedCS import generate_MFS, get_sampling_weights, get_conf_seq, sample_indices \n",
    "from utils import plot_results1\n",
    "import numpy as np "
   ]
  },
  {
   "cell_type": "code",
   "execution_count": 16,
   "metadata": {},
   "outputs": [],
   "source": [
    "# define the sampling methods \n",
    "propM = lambda M, S: M \n",
    "propMS = lambda M, S: M*S \n",
    "propMinv = lambda M, S: M**(-1)\n",
    "Methods = [propM, propMS, propMinv]\n",
    "# assign then names (in the same order as Methods list)\n",
    "method_names = ['propM', 'propMS', 'propMinv'] \n",
    "# initialize the dictionaries to store the lower and upper CSs\n",
    "LowerCSdict, UpperCSdict = {}, {}\n",
    "# initialize the grid of possible m-values for which the wealth process will be constructed\n",
    "grid = np.linspace(0, 1, 100)\n",
    "# the main loop \n",
    "for i, method_name in enumerate(method_names): \n",
    "    method = Methods[i]\n",
    "    # get the weights assigned by the different sampling methods to the different transactions\n",
    "    SW = get_sampling_weights(M, S, method=method)\n",
    "    # get the sequence of indices sampled proportional to SW without replacement\n",
    "    Idx = sample_indices(N, SamplingWeights=SW) \n",
    "\n",
    "    use_propMS = method_name=='propMS' #TODO: remove this hardcoding\n",
    "    # obtain the lower and upper confidence sequences    \n",
    "    LowerCS, UpperCS, _, _, _ = get_conf_seq(f, Pi, S, Idx, grid, SW,\n",
    "                use_propMS=use_propMS, max_lambda_val=2.0, betting_method='kelly', \n",
    "                max_f_S_ratio=max_f_S_ratio, threshold=40, intersect=True)\n",
    "    # store in the dicts \n",
    "    LowerCSdict[method_name] = LowerCS\n",
    "    UpperCSdict[method_name] = UpperCS\n"
   ]
  },
  {
   "cell_type": "markdown",
   "metadata": {},
   "source": [
    "### Plot the results "
   ]
  },
  {
   "cell_type": "code",
   "execution_count": 17,
   "metadata": {
    "scrolled": false
   },
   "outputs": [
    {
     "name": "stderr",
     "output_type": "stream",
     "text": [
      "/home/sshekhar17/Codes/AuditingNew/src/utils.py:267: UserWarning: Attempted to set non-positive bottom ylim on a log-scaled axis.\n",
      "Invalid limit will be ignored.\n",
      "  plt.ylim(bottom=0, top=max(M)*1.3)\n"
     ]
    },
    {
     "data": {
      "image/png": "[encoded data removed]",
      "text/plain": [
       "<Figure size 432x288 with 1 Axes>"
      ]
     },
     "metadata": {},
     "output_type": "display_data"
    },
    {
     "data": {
      "text/plain": [
       "<Figure size 432x288 with 0 Axes>"
      ]
     },
     "metadata": {},
     "output_type": "display_data"
    },
    {
     "data": {
      "image/png": "[encoded data removed]",
      "text/plain": [
       "<Figure size 432x288 with 1 Axes>"
      ]
     },
     "metadata": {},
     "output_type": "display_data"
    }
   ],
   "source": [
    "plot_results1(N, M, f, S, method_names, LowerCSdict, UpperCSdict, \n",
    "                    palette=None, save_fig=False, figname=None)\n"
   ]
  },
  {
   "cell_type": "code",
   "execution_count": 18,
   "metadata": {},
   "outputs": [],
   "source": [
    "# First generate the data \n",
    "N1, N2  = 200, 300\n",
    "N = N1+N2\n",
    "N_vals = [N1, N2]\n",
    "M_ranges = [ [1e2, 1e3], [1e5, 2*1e5]] \n",
    "f_ranges = [[0.4, 0.5], [1e-1, 2*1e-1]] \n",
    "a = 0.1\n",
    "max_f_S_ratio = 1/a # the extreme case when f=1 and S=a\n",
    "\n",
    "M, f, S = generate_MFS(N_vals=N_vals, N=N, M_ranges=M_ranges, f_ranges=f_ranges, a=a)\n",
    "\n",
    "Pi = M/M.sum() \n",
    "m_star = np.sum(Pi*f)"
   ]
  },
  {
   "cell_type": "code",
   "execution_count": null,
   "metadata": {},
   "outputs": [],
   "source": []
  }
 ],
 "metadata": {
  "kernelspec": {
   "display_name": "Python 3.10.4 64-bit",
   "language": "python",
   "name": "python3"
  },
  "language_info": {
   "codemirror_mode": {
    "name": "ipython",
    "version": 3
   },
   "file_extension": ".py",
   "mimetype": "text/x-python",
   "name": "python",
   "nbconvert_exporter": "python",
   "pygments_lexer": "ipython3",
   "version": "3.10.4"
  },
  "vscode": {
   "interpreter": {
    "hash": "31f2aee4e71d21fbe5cf8b01ff0e069b9275f58929596ceb00d14d90e3e16cd6"
   }
  }
 },
 "nbformat": 4,
 "nbformat_minor": 2
}
