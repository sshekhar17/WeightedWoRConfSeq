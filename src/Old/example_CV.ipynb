{
 "cells": [
  {
   "cell_type": "code",
   "execution_count": 38,
   "metadata": {},
   "outputs": [],
   "source": [
    "from weightedCS import generate_MFS, get_sampling_weights, get_conf_seq, sample_indices \n",
    "from weightedCS import control_variate_values, control_variate_weights, get_bets\n",
    "from utils import plot_results1\n",
    "import numpy as np \n",
    "import matplotlib.pyplot as plt "
   ]
  },
  {
   "cell_type": "code",
   "execution_count": 39,
   "metadata": {},
   "outputs": [],
   "source": [
    "# First generate the data \n",
    "N1, N2  = 540, 960\n",
    "N = N1+N2\n",
    "N_vals = [N1, N2]\n",
    "M_ranges = [ [1e2, 1e3], [1e5, 2*1e5]] \n",
    "f_ranges = [[0.4, 0.5], [1e-1, 2*1e-1]] \n",
    "\n",
    "\n",
    "plot_histogram=True \n",
    "plot_ratio = False"
   ]
  },
  {
   "cell_type": "code",
   "execution_count": 40,
   "metadata": {},
   "outputs": [],
   "source": [
    "from weightedCS import get_wealth_process, sample_indices\n",
    "from tqdm import tqdm \n",
    "\n",
    "def first_threshold_crossing(arr, th, max_time=100):\n",
    "    if np.any(arr>th):\n",
    "        return np.argmax(arr>th)+1\n",
    "    else:\n",
    "        return max_time\n",
    "\n",
    "a=0.5\n",
    "\n",
    "def get_StoppingTime_ratio(num_trials, l, delta_m=0.01, progress_bar=False, \n",
    "                            random_seed=None, return_stopping_times=False):\n",
    "    if random_seed is not None:\n",
    "        np.random.seed(random_seed)\n",
    "    print(f'{num_trials} trials,  l={l:.2f}, N={N}')\n",
    "    StoppingTimes, StoppingTimesCV = np.zeros((num_trials)), np.zeros((num_trials))\n",
    "\n",
    "    range_ = range(num_trials)\n",
    "    range_ = tqdm(range_) if progress_bar else range_\n",
    "    # for trial in tqdm(range(num_trials)):\n",
    "    for trial in range_:\n",
    "        M, f, S = generate_MFS(N_vals=N_vals, N=N, M_ranges=M_ranges, f_ranges=f_ranges, a=a)\n",
    "        Pi = M/M.sum() \n",
    "        m_star = np.sum(Pi*f) \n",
    "\n",
    "        # m = m_star + 0.01\n",
    "        m = m_star + delta_m\n",
    "        method = lambda M, S: M #propM strategy\n",
    "        use_propMS = False\n",
    "        # l= 0.9\n",
    "        S = f*l + (1-l)*np.random.random((N,))\n",
    "        SW = get_sampling_weights(M=M, S=S, method=method)\n",
    "        max_f_S_ratio = max(np.abs(f/S))\n",
    "        \n",
    "        Idx = sample_indices(N, SamplingWeights=SW) \n",
    "\n",
    "\n",
    "        W, _, _, _ = get_wealth_process(m, f, Pi, Idx, SamplingWeights=SW, S=S,  \n",
    "                                use_propMS=use_propMS, max_lambda_val=2.0, max_f_S_ratio=max_f_S_ratio,\n",
    "                                use_CV=False, beta_max=0.5)\n",
    "        StoppingTimes[trial] = first_threshold_crossing(W, th=20, max_time=N)\n",
    "        \n",
    "        Wcv, _, _, _ = get_wealth_process(m, f, Pi, Idx, SamplingWeights=SW, S=S,  \n",
    "                                use_propMS=use_propMS, max_lambda_val=2.0, max_f_S_ratio=max_f_S_ratio,\n",
    "                                use_CV=True, beta_max=0.5)\n",
    "        \n",
    "        StoppingTimesCV[trial] = first_threshold_crossing(Wcv, th=20, max_time=N)\n",
    "\n",
    "\n",
    "    ratio = StoppingTimes.mean() / StoppingTimesCV.mean()\n",
    "    if return_stopping_times:\n",
    "        return ratio, StoppingTimes, StoppingTimesCV\n",
    "    else:\n",
    "        return ratio"
   ]
  },
  {
   "cell_type": "code",
   "execution_count": 41,
   "metadata": {},
   "outputs": [],
   "source": [
    "# import matplotlib.pyplot as plt \n",
    "# plt.hist(StoppingTimes, label='no-CV', alpha=0.3, density=True)\n",
    "# plt.hist(StoppingTimesCV, label='CV', alpha=0.3, density=True)\n",
    "# plt.legend()\n",
    "# plt.show()\n",
    "\n",
    "# print(f'No CV: {StoppingTimes.mean()}, \\t CV: {StoppingTimesCV.mean()}')"
   ]
  },
  {
   "cell_type": "code",
   "execution_count": 42,
   "metadata": {},
   "outputs": [],
   "source": [
    "ll = np.linspace(0.1, 0.95, 15) \n",
    "Ratio = np.zeros(ll.shape)\n",
    "delta_m = 0.0\n",
    "random_seed = np.random.randint(low=0, high=100000)\n",
    "# random_seed = 44805\n",
    "num_trials = 200\n",
    "\n",
    "if plot_ratio:\n",
    "    for i, l in enumerate(ll):\n",
    "        # print(f'({i+1}/{len(ll)})') \n",
    "        Ratio[i] = get_StoppingTime_ratio(num_trials=num_trials,\n",
    "                                            l=l, delta_m=delta_m, \n",
    "                                            random_seed=random_seed, \n",
    "                                            return_stopping_times=False)"
   ]
  },
  {
   "cell_type": "code",
   "execution_count": 43,
   "metadata": {},
   "outputs": [],
   "source": [
    "if plot_ratio:\n",
    "    # delta_m = 0.05\n",
    "    # random_seed = 10\n",
    "    plt.plot(ll, Ratio)\n",
    "    plt.plot(ll, np.ones(ll.shape), '--')\n",
    "    title = 'Ratio of Average Stopping Times without and with \\n Control Variates '+f'at $m=m^*$+ {delta_m}'\n",
    "    plt.title(title, fontsize=15)\n",
    "    plt.ylabel('Ratio (without CV / with CV)', fontsize=13)\n",
    "    plt.xlabel('Correlation between $S$ and $f$', fontsize=13)\n",
    "    # plt.savefig(f'../data/Stopping_Time_ratio_(random_seed={random_seed})_.png', dpi=450)"
   ]
  },
  {
   "cell_type": "markdown",
   "metadata": {},
   "source": [
    "## Histogram of Stopping Times with and without Control Variates"
   ]
  },
  {
   "cell_type": "code",
   "execution_count": 44,
   "metadata": {},
   "outputs": [
    {
     "name": "stdout",
     "output_type": "stream",
     "text": [
      "20 trials,  l=0.90, N=1500\n",
      "Ratio = 1.0708535816300033\n",
      "\n",
      "\n"
     ]
    },
    {
     "data": {
      "image/png": "[encoded data removed]",
      "text/plain": [
       "<Figure size 432x288 with 1 Axes>"
      ]
     },
     "metadata": {
      "needs_background": "light"
     },
     "output_type": "display_data"
    }
   ],
   "source": [
    "delta_m = 0.00\n",
    "num_trials=20\n",
    "l=0.9\n",
    "if plot_histogram:\n",
    "    _, Stop, StopCV = get_StoppingTime_ratio(num_trials=num_trials,\n",
    "                                            l=l, delta_m=delta_m, \n",
    "                                            random_seed=random_seed, \n",
    "                                            return_stopping_times=True)\n",
    "\n",
    "    print(f'Ratio = {Stop.mean()/StopCV.mean()}')\n",
    "    print('\\n')\n",
    "    plt.figure()\n",
    "    plt.hist(x=Stop, density=True, label='no-CV', alpha=0.5)\n",
    "    plt.hist(x=StopCV, density=True, label='CV', alpha=0.5)\n",
    "    plt.xlabel('Stopping Time', fontsize=13)\n",
    "    plt.ylabel('Denstiy', fontsize=13)\n",
    "    plt.legend(fontsize=13)\n",
    "    title = 'Distribution of Stopping time with and \\n' \n",
    "    title += rf'whthout control variates at $m=m^*+{delta_m}$'\n",
    "    plt.title(title, fontsize=15)"
   ]
  },
  {
   "cell_type": "code",
   "execution_count": 45,
   "metadata": {},
   "outputs": [
    {
     "data": {
      "text/plain": [
       "array([299., 943., 215.])"
      ]
     },
     "execution_count": 45,
     "metadata": {},
     "output_type": "execute_result"
    }
   ],
   "source": [
    "StopCV[StopCV<1500]"
   ]
  }
 ],
 "metadata": {
  "kernelspec": {
   "display_name": "Python 3.6.9 ('MLvenv')",
   "language": "python",
   "name": "python3"
  },
  "language_info": {
   "codemirror_mode": {
    "name": "ipython",
    "version": 3
   },
   "file_extension": ".py",
   "mimetype": "text/x-python",
   "name": "python",
   "nbconvert_exporter": "python",
   "pygments_lexer": "ipython3",
   "version": "3.10.4"
  },
  "orig_nbformat": 4,
  "vscode": {
   "interpreter": {
    "hash": "db517d108f74152b11af59b3276e3cab532c07c8e3716ba74f3f067fa160f00e"
   }
  }
 },
 "nbformat": 4,
 "nbformat_minor": 2
}
